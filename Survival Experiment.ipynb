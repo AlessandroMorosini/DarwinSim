{
 "cells": [
  {
   "cell_type": "code",
   "execution_count": 1,
   "id": "2faedaf3-c610-4ef7-b648-d1cb644e466c",
   "metadata": {
    "tags": []
   },
   "outputs": [],
   "source": [
    "import numpy as np\n",
    "import random\n",
    "import matplotlib.pyplot as plt"
   ]
  },
  {
   "cell_type": "code",
   "execution_count": 2,
   "id": "c99eed26-40bc-4861-8425-0a5823ec4a7c",
   "metadata": {
    "tags": []
   },
   "outputs": [],
   "source": [
    "STEP_SIZE = 1\n",
    "EAT_THRESHOLD = 2\n",
    "SEED = 51"
   ]
  },
  {
   "cell_type": "code",
   "execution_count": 3,
   "id": "9170b0a7-7764-455b-9b76-c85d17f5a3ac",
   "metadata": {
    "tags": []
   },
   "outputs": [],
   "source": [
    "class Food:\n",
    "    def __init__(self, position: tuple):\n",
    "        self.position = position  # coordinates of food on env grid\n",
    "        self.state = \"alive\"  # can be alive or eaten\n",
    "        \n",
    "    def __repr__(self):\n",
    "        return f\"position={self.position}, state={self.state}\""
   ]
  },
  {
   "cell_type": "code",
   "execution_count": 4,
   "id": "03c2de67-2080-447c-bc7c-5dda505b345c",
   "metadata": {
    "tags": []
   },
   "outputs": [],
   "source": [
    "class Agent:\n",
    "    def __init__(self, position: tuple):\n",
    "        self.position = position  # oordinates of agent on env grid\n",
    "        self.energy = np.inf  # energy to be consumed walking\n",
    "        self.food_eaten = 0  # amound of food items eaten\n",
    "        self.state = \"alive\"  # can be alive or dead\n",
    "\n",
    "    def move(self, new_position):\n",
    "        # move randomly on x or y by step size\n",
    "        x, y = new_position\n",
    "        self.position = x, y\n",
    "        # consume energy equal to step size\n",
    "        self.energy -= STEP_SIZE \n",
    "        \n",
    "    def eat(self, food):\n",
    "        # eat food and increase counter\n",
    "        self.food_eaten += 1\n",
    "        food.state = \"eaten\"\n",
    "\n",
    "    def __repr__(self):\n",
    "        return f\"position={self.position}, state={self.state}, food_eaten={self.food_eaten}\""
   ]
  },
  {
   "cell_type": "code",
   "execution_count": 5,
   "id": "84c2d4ce-74cd-49d9-b806-b3a2383e7cea",
   "metadata": {
    "tags": []
   },
   "outputs": [],
   "source": [
    "class Environment:\n",
    "    def __init__(self, size=20):\n",
    "        self.size = size\n",
    "        self.num_foods = 3\n",
    "        self.num_agents = 5\n",
    "        self.foods = []\n",
    "        self.agents = []\n",
    "        np.random.seed(SEED)\n",
    "        self.initialize()\n",
    "     \n",
    "    def add_food(self):  # add food on the grid randomly\n",
    "        for _ in range(self.num_foods):\n",
    "            x = random.uniform(0, self.size)\n",
    "            y = random.uniform(0, self.size)\n",
    "            food = Food((x, y))\n",
    "            self.foods.append(food)\n",
    "\n",
    "    def add_agents(self):  # add agents on the grid edges randomly\n",
    "        for _ in range(self.num_agents):\n",
    "            if np.random.random() > 0.5:\n",
    "                x, y = 0, random.uniform(0, self.size)\n",
    "            else:\n",
    "                x, y = random.uniform(0, self.size), 0\n",
    "            agent = Agent((x, y))\n",
    "            self.agents.append(agent)\n",
    "            \n",
    "    def initialize(self):  # initialize the grid\n",
    "        self.add_food()\n",
    "        self.add_agents()\n",
    "        \n",
    "    def reset(self):  # restart the grid (when game is over)\n",
    "        self.foods = []\n",
    "        self.agents = []\n",
    "        self.initialize()\n",
    "\n",
    "    def move_agent(self, agent):\n",
    "        x, y = agent.position\n",
    "        if np.random.random() > 0.5:\n",
    "            new_x = x\n",
    "            new_y = (y + STEP_SIZE) % self.size\n",
    "        else:\n",
    "            new_x = (x + STEP_SIZE) % self.size\n",
    "            new_y = y \n",
    "        new_position = new_x, new_y\n",
    "        agent.move(new_position)\n",
    "        \n",
    "    def interact_agent(self, agent):\n",
    "        for food in self.foods:\n",
    "            distance = np.linalg.norm(np.array(agent.position) - np.array(food.position))\n",
    "            if distance < EAT_THRESHOLD:\n",
    "                agent.eat(food)\n",
    "                self.foods = [food for food in self.foods if food.state != \"eaten\"]\n",
    "                \n",
    "    def select_agent(self, agent):\n",
    "        if agent.energy <= 0:\n",
    "            agent.state = \"dead\"\n",
    "        self.agents = [agent for agent in self.agents if agent.state != \"dead\"]\n",
    "          \n",
    "    def step(self):\n",
    "        for agent in self.agents:\n",
    "            self.move_agent(agent)\n",
    "            self.interact_agent(agent)\n",
    "            self.select_agent(agent)\n",
    "            \n",
    "    def is_game_over(self):  # game over when no more food is left\n",
    "            return len(env.foods) == 0\n",
    "        \n",
    "    def visualize(self):\n",
    "        fig, ax = plt.subplots()\n",
    "        food_x, food_y = zip(*[food.position for food in self.foods])\n",
    "        ax.scatter(food_x, food_y, c='red', label='Food')\n",
    "        agent_x, agent_y = zip(*[agent.position for agent in self.agents])\n",
    "        ax.scatter(agent_x, agent_y, c='blue', label='Agents')\n",
    "        ax.set_xlim(0, self.size)\n",
    "        ax.set_ylim(0, self.size)\n",
    "        ax.set_xlabel('X-coordinate')\n",
    "        ax.set_ylabel('Y-coordinate')\n",
    "        ax.legend()\n",
    "        plt.pause(0.1)  \n",
    "        plt.show() \n",
    "        \n",
    "    def __repr__(self):\n",
    "        return f\"Agents: {self.agents}, \\nFood: {self.foods}\""
   ]
  },
  {
   "cell_type": "code",
   "execution_count": 6,
   "id": "cffab662-07cb-4fbb-b427-22a9048e6d12",
   "metadata": {
    "tags": []
   },
   "outputs": [
    {
     "data": {
      "image/png": "[encoded data removed]",
      "text/plain": [
       "<Figure size 640x480 with 1 Axes>"
      ]
     },
     "metadata": {},
     "output_type": "display_data"
    }
   ],
   "source": [
    "env = Environment()\n",
    "env.visualize()"
   ]
  },
  {
   "cell_type": "code",
   "execution_count": 7,
   "id": "46f588dd-6bf2-46a7-83d1-66f865714ddb",
   "metadata": {
    "tags": []
   },
   "outputs": [],
   "source": [
    "# this is one loop for \"a day\"\n",
    "# our buddies move randomly and eat until the food is over\n",
    "\n",
    "done = False\n",
    "while not done:\n",
    "    env.step()\n",
    "    done = env.is_game_over()"
   ]
  },
  {
   "cell_type": "code",
   "execution_count": 8,
   "id": "598e94ca-10c5-4e3d-a7ae-9ee652538175",
   "metadata": {
    "tags": []
   },
   "outputs": [
    {
     "data": {
      "text/plain": [
       "Agents: [position=(3, 0.04375846455462451), state=alive, food_eaten=0, position=(4.003151756661314, 3), state=alive, food_eaten=0, position=(10.45635653800849, 5), state=alive, food_eaten=2, position=(5, 11.332765841803338), state=alive, food_eaten=0, position=(19.127058597546323, 2), state=alive, food_eaten=1], \n",
       "Food: []"
      ]
     },
     "execution_count": 8,
     "metadata": {},
     "output_type": "execute_result"
    }
   ],
   "source": [
    "env"
   ]
  },
  {
   "cell_type": "code",
   "execution_count": 9,
   "id": "fb723dd7-4a69-4c27-b9ef-080364101cae",
   "metadata": {
    "tags": []
   },
   "outputs": [],
   "source": [
    "def update_environment(env):\n",
    "    agents_dead = len([agent for agent in env.agents if agent.food_eaten == 0])\n",
    "    agents_reproduce = len([agent for agent in env.agents if agent.food_eaten >= 2])\n",
    "    env.num_agents = env.num_agents - agents_dead + agents_reproduce"
   ]
  },
  {
   "cell_type": "code",
   "execution_count": null,
   "id": "a4aa7334-6cff-480d-bff4-b49695bb1fae",
   "metadata": {},
   "outputs": [],
   "source": []
  }
 ],
 "metadata": {
  "kernelspec": {
   "display_name": "Python 3 (ipykernel)",
   "language": "python",
   "name": "python3"
  },
  "language_info": {
   "codemirror_mode": {
    "name": "ipython",
    "version": 3
   },
   "file_extension": ".py",
   "mimetype": "text/x-python",
   "name": "python",
   "nbconvert_exporter": "python",
   "pygments_lexer": "ipython3",
   "version": "3.11.0"
  }
 },
 "nbformat": 4,
 "nbformat_minor": 5
}
