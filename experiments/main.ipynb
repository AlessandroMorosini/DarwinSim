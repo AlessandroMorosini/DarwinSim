{
 "cells": [
  {
   "cell_type": "code",
   "execution_count": 1,
   "id": "ac70ec3d-d7f6-4c93-a2de-e98f1bbc505c",
   "metadata": {
    "tags": []
   },
   "outputs": [],
   "source": [

    "import os\n",
    "import numpy as np \n",
    "import matplotlib.pyplot as plt\n",
    "import seaborn as sns\n",
    "from dataclasses import dataclass\n",
    "\n",
    "src_directory = '../src'\n",
    "os.chdir(src_directory) #assure that the cwd is set to the src folder\n",
    "\n",
    "from main import main\n",
    "from Agent import AgentFeatures\n",
    "from Environment import EnvironmentFeatures"

   ]
  },
  {
   "cell_type": "markdown",
   "id": "016aca89-630a-49ad-87f5-3742d88c8a44",
   "metadata": {},
   "source": [
    "## Experiment X"
   ]
  },
  {
   "cell_type": "code",
   "execution_count": 2,
   "id": "a12aa38b-d2af-462e-978d-f026fea1b348",
   "metadata": {
    "tags": []
   },
   "outputs": [],
   "source": [
    "env_features = EnvironmentFeatures(\n",
    "    grid_size = 10,\n",
    "    num_agents = 10,\n",
    "    num_foods = 5,\n",
    ")\n",
    "\n",
    "agent_features = AgentFeatures(\n",
    "    speed = 1,  # agent will take a step of lenght 1 on the grid of size 10 \n",
    "    energy = np.inf,  # not using energy constraint\n",
    "    size = 100,  # not implemented yet but we'll have to \n",
    "    sense = 1.0\n",
    ")\n",
    "\n",
    "n_days = 30"
   ]
  },
  {
   "cell_type": "code",
   "execution_count": null,
   "id": "88e169f3",
   "metadata": {},
   "outputs": [],
   "source": [
    "agents_per_day = main(env_features, agent_features, n_days)"
   ]
  },
  {
   "cell_type": "code",
   "execution_count": 3,
   "id": "a6790ed4-96b7-41c2-ab84-6e30f24aba9e",
   "metadata": {},
   "outputs": [
    {
     "ename": "NameError",
     "evalue": "name 'agents_per_day' is not defined",
     "output_type": "error",
     "traceback": [
      "\u001b[1;31m---------------------------------------------------------------------------\u001b[0m",
      "\u001b[1;31mNameError\u001b[0m                                 Traceback (most recent call last)",
      "Cell \u001b[1;32mIn[3], line 1\u001b[0m\n\u001b[1;32m----> 1\u001b[0m number_agents_per_day \u001b[38;5;241m=\u001b[39m [\u001b[38;5;28mlen\u001b[39m(_) \u001b[38;5;28;01mfor\u001b[39;00m _ \u001b[38;5;129;01min\u001b[39;00m \u001b[43magents_per_day\u001b[49m\u001b[38;5;241m.\u001b[39mvalues()]\n\u001b[0;32m      3\u001b[0m fig, (ax1, ax2) \u001b[38;5;241m=\u001b[39m plt\u001b[38;5;241m.\u001b[39msubplots(\u001b[38;5;241m1\u001b[39m, \u001b[38;5;241m2\u001b[39m, figsize\u001b[38;5;241m=\u001b[39m(\u001b[38;5;241m12\u001b[39m, \u001b[38;5;241m5\u001b[39m))\n\u001b[0;32m      5\u001b[0m ax1\u001b[38;5;241m.\u001b[39mplot(number_agents_per_day, marker\u001b[38;5;241m=\u001b[39m\u001b[38;5;124m'\u001b[39m\u001b[38;5;124mo\u001b[39m\u001b[38;5;124m'\u001b[39m, linestyle\u001b[38;5;241m=\u001b[39m\u001b[38;5;124m'\u001b[39m\u001b[38;5;124m-\u001b[39m\u001b[38;5;124m'\u001b[39m, color\u001b[38;5;241m=\u001b[39m\u001b[38;5;124m'\u001b[39m\u001b[38;5;124mb\u001b[39m\u001b[38;5;124m'\u001b[39m, label\u001b[38;5;241m=\u001b[39m\u001b[38;5;124m'\u001b[39m\u001b[38;5;124mSurviving Agents\u001b[39m\u001b[38;5;124m'\u001b[39m)\n",
      "\u001b[1;31mNameError\u001b[0m: name 'agents_per_day' is not defined"
     ]
    }
   ],
   "source": [
    "number_agents_per_day = [len(_) for _ in agents_per_day.values()]\n",
    "\n",
    "fig, (ax1, ax2) = plt.subplots(1, 2, figsize=(12, 5))\n",
    "\n",
    "ax1.plot(number_agents_per_day, marker='o', linestyle='-', color='b', label='Surviving Agents')\n",
    "ax1.set_xlabel('Day')\n",
    "ax1.set_ylabel('Number of Surviving Agents')\n",
    "ax1.set_title('Survival of Agents Over Time')\n",
    "ax1.grid(True, linestyle='--', alpha=0.7)\n",
    "ax1.legend()\n",
    "\n",
    "sns.histplot(number_agents_per_day, ax=ax2, bins=10, color='g', kde=True)\n",
    "ax2.set_xlabel('Number of Surviving Agents')\n",
    "ax2.set_ylabel('Frequency')\n",
    "ax2.set_title('Distribution of Surviving Agents')\n",
    "\n",
    "plt.tight_layout()\n",
    "plt.show()"
   ]
  }
 ],
 "metadata": {
  "kernelspec": {
   "display_name": "Python 3 (ipykernel)",
   "language": "python",
   "name": "python3"
  },
  "language_info": {
   "codemirror_mode": {
    "name": "ipython",
    "version": 3
   },
   "file_extension": ".py",
   "mimetype": "text/x-python",
   "name": "python",
   "nbconvert_exporter": "python",
   "pygments_lexer": "ipython3",
   "version": "3.11.4"
  }
 },
 "nbformat": 4,
 "nbformat_minor": 5
}
